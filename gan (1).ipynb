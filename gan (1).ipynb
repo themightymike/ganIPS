{
 "cells": [
  {
   "cell_type": "code",
   "execution_count": 1,
   "metadata": {},
   "outputs": [
    {
     "ename": "ModuleNotFoundError",
     "evalue": "No module named 'tqdm'",
     "output_type": "error",
     "traceback": [
      "\u001b[0;31m---------------------------------------------------------------------------\u001b[0m",
      "\u001b[0;31mModuleNotFoundError\u001b[0m                       Traceback (most recent call last)",
      "\u001b[0;32m<ipython-input-1-477e8740f195>\u001b[0m in \u001b[0;36m<module>\u001b[0;34m\u001b[0m\n\u001b[1;32m      5\u001b[0m \u001b[0;32mimport\u001b[0m \u001b[0mpandas\u001b[0m \u001b[0;32mas\u001b[0m \u001b[0mpd\u001b[0m\u001b[0;34m\u001b[0m\u001b[0;34m\u001b[0m\u001b[0m\n\u001b[1;32m      6\u001b[0m \u001b[0;32mimport\u001b[0m \u001b[0mmatplotlib\u001b[0m\u001b[0;34m.\u001b[0m\u001b[0mpyplot\u001b[0m \u001b[0;32mas\u001b[0m \u001b[0mplt\u001b[0m\u001b[0;34m\u001b[0m\u001b[0;34m\u001b[0m\u001b[0m\n\u001b[0;32m----> 7\u001b[0;31m \u001b[0;32mfrom\u001b[0m \u001b[0mtqdm\u001b[0m \u001b[0;32mimport\u001b[0m \u001b[0mtqdm\u001b[0m\u001b[0;34m\u001b[0m\u001b[0;34m\u001b[0m\u001b[0m\n\u001b[0m\u001b[1;32m      8\u001b[0m \u001b[0;32mimport\u001b[0m \u001b[0mmath\u001b[0m\u001b[0;34m\u001b[0m\u001b[0;34m\u001b[0m\u001b[0m\n\u001b[1;32m      9\u001b[0m \u001b[0;32mfrom\u001b[0m \u001b[0msklearn\u001b[0m \u001b[0;32mimport\u001b[0m \u001b[0mpreprocessing\u001b[0m\u001b[0;34m\u001b[0m\u001b[0;34m\u001b[0m\u001b[0m\n",
      "\u001b[0;31mModuleNotFoundError\u001b[0m: No module named 'tqdm'"
     ]
    }
   ],
   "source": [
    "import numpy as np\n",
    "from tensorflow import keras\n",
    "from tensorflow.keras.layers import Dense, Input\n",
    "from tensorflow.keras.models import Model,Sequential\n",
    "import pandas as pd\n",
    "import matplotlib.pyplot as plt\n",
    "from tqdm import tqdm\n",
    "import math\n",
    "from sklearn import preprocessing"
   ]
  },
  {
   "cell_type": "code",
   "execution_count": null,
   "metadata": {},
   "outputs": [],
   "source": [
    "def data_preparation(df):\n",
    "    category = df.pop('category')\n",
    "    subcategory = df.pop('subcategory')\n",
    "    attack = df.pop('attack')\n",
    "    \n",
    "    del df['pkSeqID']\n",
    "    del df['flgs']\n",
    "    del df['saddr']    \n",
    "    del df['sport']    \n",
    "    del df['daddr']    \n",
    "    del df['dport']\n",
    "    del df['smac']\n",
    "    del df['dmac']\n",
    "    del df['soui']\n",
    "    del df['doui']\n",
    "    del df['sco']\n",
    "    del df['dco']\n",
    "    del df['stime']\n",
    "    del df['seq']\n",
    "\n",
    "    \n",
    "    df.loc[df['state'] == 'CON','state'] = 0\n",
    "    df.loc[df['state'] == 'FIN','state'] = 1\n",
    "    df.loc[df['state'] == 'INT','state'] = 2\n",
    "    df.loc[df['state'] == 'NRS','state'] = 3\n",
    "    df.loc[df['state'] == 'RST','state'] = 4\n",
    "    df.loc[df['state'] == 'URP','state'] = 5\n",
    "    df.loc[df['state'] == 'REQ','state'] = 6\n",
    "    df.loc[df['state'] == 'ECO','state'] = 7\n",
    "    df.loc[df['state'] == 'MAS','state'] = 8\n",
    "    df.loc[df['state'] == 'PAR','state'] = 9\n",
    "    df.loc[df['state'] == 'TST','state'] = 10\n",
    "\n",
    "\n",
    "\n",
    "    df.loc[df['proto'] == 'arp','proto'] = 0\n",
    "    df.loc[df['proto'] == 'icmp','proto'] = 1\n",
    "    df.loc[df['proto'] == 'ipv6-icmp','proto'] = 2\n",
    "    df.loc[df['proto'] == 'tcp','proto'] = 3\n",
    "    df.loc[df['proto'] == 'udp','proto'] = 4\n",
    "    df.loc[df['proto'] == 'igmp','proto'] = 5\n",
    "    df.loc[df['proto'] == 'rarp','proto'] = 6\n",
    "\n",
    "    df = df.astype(np.float32)\n",
    "    \n",
    "    for column in df.columns:\n",
    "        df[column] = df[column]/max(df[column])\n",
    "    \n",
    "    category.loc[category == 'DDoS'] = 0\n",
    "    category.loc[category == 'DoS'] = 1\n",
    "    category.loc[category == 'Normal'] = 2\n",
    "    category.loc[category == 'Reconnaissance'] = 3\n",
    "    category.loc[category == 'Theft'] = 4\n",
    "    \n",
    "    category = keras.utils.to_categorical(category, 5)\n",
    "    \n",
    "    \n",
    "    return df, category"
   ]
  },
  {
   "cell_type": "code",
   "execution_count": 284,
   "metadata": {},
   "outputs": [],
   "source": [
    "def prepare_data(df_file_path):\n",
    "    df = pd.read_csv(df_file_path)\n",
    "    df.columns = ['DELETED', 'time', 'DELETED', 'srvc', 'ipv4', 'sip', 'dip', 'len', \n",
    "                  'DELETED', 'DELETED', 'DELETED', 'DELETED', 'DELETED', 'DELETED', \n",
    "                  'DELETED', 'curdur', 'dtime', 'hlen', 'DELETED', 'DELETED', 'DELETED',\n",
    "                  'DELETED', 'DELETED', 'DELETED', 'DELETED', 'DELETED', 'DELETED', \n",
    "                  'dport', 'sport', 'rsrvd', 'nnc', 'cwr', 'ecn', 'urg', 'ack', \n",
    "                  'push', 'rst', 'syn', 'fin']\n",
    "\n",
    "    del df['DELETED']\n",
    "\n",
    "\n",
    "    flags = ['rsrvd', 'nnc', 'cwr', 'ecn','urg', 'ack', 'push', 'rst', 'syn', 'fin']\n",
    "    for col in flags:\n",
    "        df.loc[df[col] == 'Not set', col] = 0\n",
    "        df.loc[df[col] == 'Set', col] = 1\n",
    "    \n",
    "    df = df.fillna(0)\n",
    "    df['dport'] = df['dport'].astype(np.int)\n",
    "    df['sport'] = df['sport'].astype(np.int)\n",
    "    df['hlen'] = df['hlen'].astype(np.int)\n",
    "    return df\n",
    "\n",
    "\n"
   ]
  },
  {
   "cell_type": "code",
   "execution_count": 286,
   "metadata": {},
   "outputs": [],
   "source": [
    "def prepare_Michael_data(dos_file_path, normal_file_path, recon_file_path):\n",
    "    dos = prepare_data(dos_file_path)\n",
    "    search_ip = ['192.168.50.150', '192.168.50.210']\n",
    "    for ip in set(dos['sip']):\n",
    "        if ip not in search_ip:\n",
    "            dos = dos.drop(dos[dos.sip == ip].index)\n",
    "\n",
    "    for ip in set(dos['dip']):\n",
    "        if ip not in search_ip:\n",
    "            dos = dos.drop(dos[dos.dip == ip].index)\n",
    "            \n",
    "            \n",
    "    normal = prepare_data(normal_file_path)\n",
    "    normal = normal.drop(normal[~((normal.sip == '192.168.50.150') | (normal.dip == '192.168.50.150'))].index)\n",
    "    \n",
    "    recon = prepare_data(recon_file_path)\n",
    "    recon = recon.drop(recon[~((recon.sip == '192.168.50.150') | (recon.dip == '192.168.50.150'))].index)\n",
    "    \n",
    "    dos['category'] ='dos'\n",
    "    normal['category'] = 'normal'\n",
    "    recon['category'] = 'recon'\n",
    "    \n",
    "    summary = pd.concat([dos, normal, recon]).reset_index(drop=True)\n",
    "    ipv4 = pd.get_dummies(summary['ipv4'])\n",
    "    ipv4['ICMP'] += ipv4['ICMP,UDP']\n",
    "    ipv4['ICMP'] += ipv4['ICMP,TCP']\n",
    "    ipv4['TCP'] += ipv4['ICMP,TCP']\n",
    "    ipv4['UDP'] += ipv4['ICMP,UDP']\n",
    "    del ipv4['ICMP,TCP']\n",
    "    del ipv4['ICMP,UDP']\n",
    "    \n",
    "    srvc = pd.get_dummies(summary['srvc'])\n",
    "    summary[ipv4.columns] = ipv4\n",
    "    summary[srvc.columns] = srvc\n",
    "\n",
    "    del summary['srvc']\n",
    "    del summary['ipv4']\n",
    "    \n",
    "    \n",
    "    land = summary['sport'] == summary['dport']\n",
    "    land[land == True] = 1\n",
    "    land[land == False] = 0\n",
    "    del summary['dport']\n",
    "    del summary['sport']\n",
    "    summary['land'] = land.astype(np.int)\n",
    "\n",
    "    \n",
    "    dos = summary[summary['category'] == 'dos']\n",
    "    normal = summary[summary['category'] == 'normal']\n",
    "    recon = summary[summary['category'] == 'recon']\n",
    "    \n",
    "    \n",
    "    src_bytes = sum(dos['len'][dos['sip'] == '192.168.50.150'])\n",
    "    dst_bytes = sum(dos['len'][dos['sip'] == '192.168.50.210'])\n",
    "    sbps = src_bytes / (max(dos['time']) - min(dos['time']))\n",
    "    dbps = dst_bytes / (max(dos['time']) - min(dos['time']))\n",
    "    dos['src_bytes'] = src_bytes\n",
    "    dos['dst_bytes'] = dst_bytes\n",
    "    dos.loc[dos['sip'] == '192.168.50.210', 'src_bytes'] = dst_bytes\n",
    "    dos.loc[dos['sip'] == '192.168.50.210', 'dst_bytes'] = src_bytes\n",
    "    dos['sbps'] = sbps\n",
    "    dos['dbps'] = dbps\n",
    "    dos.loc[dos['sip'] == '192.168.50.210', 'sbps'] = dbps\n",
    "    dos.loc[dos['sip'] == '192.168.50.210', 'dbps'] = sbps\n",
    "    \n",
    "    print('dos: 100%\\n normal:')\n",
    "    \n",
    "    ip_list = set(normal.sip)\n",
    "    df = pd.DataFrame([[0 for i in ip_list] for j in ip_list], columns= ip_list, index= ip_list)\n",
    "    for dip in ip_list:\n",
    "        df['192.168.50.150'][dip] = sum(normal['len'][(normal['dip'] == dip) & (normal['sip'] == '192.168.50.150')])\n",
    "    for sip in ip_list:\n",
    "        df[sip]['192.168.50.150'] = sum(normal['len'][(normal['sip'] == sip) & (normal['dip'] == '192.168.50.150')])\n",
    "\n",
    "\n",
    "    normal[['src_bytes', 'dst_bytes']] = [0, 0]\n",
    "\n",
    "    for (i, j, k) in zip(normal['sip'], normal['dip'], normal.index):\n",
    "        if i == '192.168.50.150':\n",
    "            if j !='192.168.50.255' and j != '239.255.255.250' and j != '224.0.0.251' and j != '192.168.50.243':\n",
    "                normal['src_bytes'][k] = df['192.168.50.150'][j]\n",
    "                normal['dst_bytes'][k] = df[j]['192.168.50.150']\n",
    "        else:\n",
    "            if j == '192.168.50.150':\n",
    "                normal['src_bytes'][k] = df[i]['192.168.50.150']\n",
    "                normal['dst_bytes'][k] = df['192.168.50.150'][i]\n",
    "        if k % 10000 == 0:\n",
    "            print(((k - min(normal.index)) / (max(normal.index) - min(normal.index)))* 100)\n",
    "\n",
    "    normal['sbps'] = normal['src_bytes'] / (max(normal['time'] - min(normal['time'])))\n",
    "    normal['dbps'] = normal['dst_bytes'] / (max(normal['time'] - min(normal['time'])))\n",
    "\n",
    "    print('normal: 100%\\n recon:')\n",
    "\n",
    "    \n",
    "    ip_list = set(recon.sip)\n",
    "    df = pd.DataFrame([[0 for i in ip_list] for j in ip_list], columns= ip_list, index= ip_list)\n",
    "    for dip in ip_list:\n",
    "        df['192.168.50.150'][dip] = sum(recon['len'][(recon['dip'] == dip) & (recon['sip'] == '192.168.50.150')])\n",
    "    for sip in ip_list:\n",
    "        df[sip]['192.168.50.150'] = sum(recon['len'][(recon['sip'] == sip) & (recon['dip'] == '192.168.50.150')])\n",
    "\n",
    "\n",
    "    recon[['src_bytes', 'dst_bytes']] = [0, 0]\n",
    "\n",
    "    for (i, j, k) in zip(recon['sip'], recon['dip'], recon.index):\n",
    "        if i == '192.168.50.150':\n",
    "            if j !='192.168.50.255' and j != '239.255.255.250' and j != '224.0.0.251' and j != '192.168.50.243':\n",
    "                recon['src_bytes'][k] = df['192.168.50.150'][j]\n",
    "                recon['dst_bytes'][k] = df[j]['192.168.50.150']\n",
    "        else:\n",
    "            if j == '192.168.50.150':\n",
    "                recon['src_bytes'][k] = df[i]['192.168.50.150']\n",
    "                recon['dst_bytes'][k] = df['192.168.50.150'][i]\n",
    "        if k % 10000 == 0:\n",
    "            print( ((k - min(recon.index)) / (max(recon.index) - min(recon.index))) * 100, '%')\n",
    "\n",
    "    recon['sbps'] = recon['src_bytes'] / (max(recon['time'] - min(recon['time'])))\n",
    "    recon['dbps'] = recon['dst_bytes'] / (max(recon['time'] - min(recon['time'])))\n",
    "\n",
    "    #del dos['time']\n",
    "    #del normal['time']\n",
    "    #del recon['time']\n",
    "    #del dos['sip']\n",
    "    #del normal['sip']\n",
    "    #del recon['sip']\n",
    "    #del dos['dip']\n",
    "    #del normal['dip']\n",
    "    #del recon['dip']\n",
    "    #del dos['category']\n",
    "    #del normal['category']\n",
    "    #del recon['category']\n",
    "\n",
    "    return dos, normal, recon"
   ]
  },
  {
   "cell_type": "code",
   "execution_count": 335,
   "metadata": {},
   "outputs": [],
   "source": [
    "def normalize(df_orig):\n",
    "    x = df_orig.values #returns a numpy array\n",
    "    min_max_scaler = preprocessing.MinMaxScaler()\n",
    "    x_scaled = min_max_scaler.fit_transform(x)\n",
    "    df_normalized = pd.DataFrame(x_scaled, columns = df_orig.columns, index= df_orig.index)\n",
    "    return df_normalized"
   ]
  },
  {
   "cell_type": "code",
   "execution_count": 331,
   "metadata": {},
   "outputs": [],
   "source": [
    "dos_path = r'/Users/mike/Downloads/dosfinal.csv'\n",
    "normal_path = r'/Users/mike/Downloads/normalfinal.csv'\n",
    "recon_path = r'/Users/mike/Downloads/reconfinal.csv'\n",
    "dos= pd.read_csv(dos_path)\n",
    "normal= pd.read_csv(normal_path)\n",
    "recon= pd.read_csv(recon_path)\n",
    "\n"
   ]
  },
  {
   "cell_type": "code",
   "execution_count": 332,
   "metadata": {},
   "outputs": [],
   "source": [
    "#dos.to_csv(r'C:\\Users\\Евгений\\Desktop\\7 семестр\\Нейронки\\datasets\\dosfinal.csv', sep=',', encoding='utf-8', index=False)\n",
    "#normal.to_csv(r'C:\\Users\\Евгений\\Desktop\\7 семестр\\Нейронки\\datasets\\normalfinal.csv', sep=',', encoding='utf-8', index=False)\n",
    "#recon.to_csv(r'C:\\Users\\Евгений\\Desktop\\7 семестр\\Нейронки\\datasets\\reconfinal.csv', sep=',', encoding='utf-8', index=False)\n"
   ]
  },
  {
   "cell_type": "code",
   "execution_count": 336,
   "metadata": {},
   "outputs": [],
   "source": [
    "df = pd.concat([dos,normal,recon])\n",
    "del df['time']\n",
    "del df['sip']\n",
    "del df['dip']\n",
    "category = df.pop('category')\n",
    "\n",
    "df_normalized = normalize(df)"
   ]
  },
  {
   "cell_type": "code",
   "execution_count": 338,
   "metadata": {},
   "outputs": [],
   "source": [
    "dos_normalized = df_normalized[category == 'dos']\n",
    "normal_normalized = df_normalized[category == 'normal']\n",
    "recon_normalized = df_normalized[category == 'recon']"
   ]
  },
  {
   "cell_type": "code",
   "execution_count": null,
   "metadata": {},
   "outputs": [],
   "source": [
    "#df, category = data_preparation(df)"
   ]
  },
  {
   "cell_type": "code",
   "execution_count": 270,
   "metadata": {},
   "outputs": [],
   "source": [
    "discriminator = keras.Sequential([\n",
    "    Dense(38, activation='relu'),\n",
    "   # Dense(100, activation='relu'),\n",
    "    Dense(100, activation='relu'),\n",
    "    Dense(1, activation='sigmoid')\n",
    "])\n",
    "discriminator.compile(optimizer='adam', loss='binary_crossentropy', metrics=['accuracy'])"
   ]
  },
  {
   "cell_type": "code",
   "execution_count": 271,
   "metadata": {},
   "outputs": [],
   "source": [
    "generator = keras.Sequential([\n",
    "    Dense(100, activation='relu'),\n",
    "    Dense(256, activation='relu'),\n",
    "    Dense(256, activation='relu'),\n",
    "    Dense(38, activation='sigmoid')\n",
    "])\n",
    "generator.compile(optimizer='adam', loss='binary_crossentropy')"
   ]
  },
  {
   "cell_type": "code",
   "execution_count": 275,
   "metadata": {},
   "outputs": [],
   "source": [
    "def create_gan(discriminator, generator):\n",
    "    discriminator.trainable = False\n",
    "    gan_input = Input(shape=100)\n",
    "    x = generator(gan_input)\n",
    "    gan_output= discriminator(x)\n",
    "    gan= Model(inputs=gan_input, outputs=gan_output)\n",
    "    gan.compile(loss='binary_crossentropy', optimizer='adam')\n",
    "    return gan\n"
   ]
  },
  {
   "cell_type": "code",
   "execution_count": 276,
   "metadata": {},
   "outputs": [],
   "source": [
    "def train(gan, df, epochs=1, batch_size=128):\n",
    "    \n",
    "    batch_count = len(df) // 128\n",
    "    history_dis =[]\n",
    "    history_gen = []\n",
    "    for e in range(1, epochs+1):\n",
    "        for _ in tqdm(range(batch_count)):\n",
    "            \n",
    "            # Get a random set of input noise and packets\n",
    "            noise = np.random.uniform(0, 1, size=[batch_size, 100])\n",
    "            real_packets = df.loc[np.random.randint(0, len(df), size= batch_size)]\n",
    "\n",
    "            # Generate fake packets\n",
    "            generated_packets = generator.predict(noise)\n",
    "            X = np.concatenate([real_packets, generated_packets])\n",
    "\n",
    "            # Labels for generated and real data\n",
    "            y_dis = np.ones(2 * batch_size)\n",
    "            # One-sided label smoothing\n",
    "            y_dis[batch_size:] = 0\n",
    "\n",
    "            # Train discriminator\n",
    "            discriminator.trainable = True\n",
    "            history_dis.append(discriminator.train_on_batch(X, y_dis))\n",
    "\n",
    "            # Train generator\n",
    "            noise = np.random.uniform(0, 1, size=[batch_size, 100])\n",
    "            y_gen = np.ones(batch_size)\n",
    "            discriminator.trainable = False\n",
    "            history_gen.append(gan.train_on_batch(noise, y_gen))\n",
    "        print('-'*15, 'Epoch %d' % e, '-'*15)\n",
    "    return history_dis, history_gen"
   ]
  },
  {
   "cell_type": "code",
   "execution_count": 277,
   "metadata": {},
   "outputs": [],
   "source": [
    "gan = create_gan(discriminator,generator)\n"
   ]
  },
  {
   "cell_type": "code",
   "execution_count": 344,
   "metadata": {},
   "outputs": [],
   "source": [
    "train_dos, test_dos = np.split(dos_normalized, [int(.8*len(dos_normalized))])\n",
    "train_normal, test_normal = np.split(normal_normalized, [int(.8*len(normal_normalized))])\n",
    "train_recon, test_recon = np.split(recon_normalized, [int(.8*len(recon_normalized))])\n",
    "\n"
   ]
  },
  {
   "cell_type": "code",
   "execution_count": null,
   "metadata": {},
   "outputs": [],
   "source": [
    "h_dis, h_gen = train(gan, df, 5, 500)"
   ]
  },
  {
   "cell_type": "code",
   "execution_count": 264,
   "metadata": {},
   "outputs": [
    {
     "name": "stdout",
     "output_type": "stream",
     "text": [
      "25/25 [==============================] - 0s 2ms/step\n"
     ]
    }
   ],
   "source": [
    "noise = np.random.uniform(0, 1, size=[800, 100])\n",
    "generated_packets = generator.predict(noise,  verbose=1)\n",
    "real_packets = df.loc[len(df)-800:]\n",
    "X = np.concatenate([real_packets, generated_packets])\n",
    "\n",
    "# Labels for generated and real data\n",
    "y_dis = np.ones(2 * 800)\n",
    "# One-sided label smoothing\n",
    "y_dis[800:] = 0"
   ]
  },
  {
   "cell_type": "code",
   "execution_count": 265,
   "metadata": {},
   "outputs": [
    {
     "name": "stdout",
     "output_type": "stream",
     "text": [
      "50/50 [==============================] - 0s 3ms/step - loss: 9.4303e-07 - accuracy: 1.0000\n"
     ]
    },
    {
     "data": {
      "text/plain": [
       "[9.430300451640505e-07, 1.0]"
      ]
     },
     "execution_count": 265,
     "metadata": {},
     "output_type": "execute_result"
    }
   ],
   "source": [
    "discriminator.evaluate(X, y_dis)"
   ]
  },
  {
   "cell_type": "code",
   "execution_count": 266,
   "metadata": {},
   "outputs": [
    {
     "name": "stdout",
     "output_type": "stream",
     "text": [
      "25/25 [==============================] - 0s 3ms/step - loss: 15.8729\n"
     ]
    },
    {
     "data": {
      "text/plain": [
       "15.872933387756348"
      ]
     },
     "execution_count": 266,
     "metadata": {},
     "output_type": "execute_result"
    }
   ],
   "source": [
    "noise = np.random.normal(0, 1, size=[800, 100])\n",
    "y_gen = np.ones(800)\n",
    "#discriminator.trainable = False\n",
    "gan.evaluate(noise, y_gen)"
   ]
  },
  {
   "cell_type": "code",
   "execution_count": 267,
   "metadata": {},
   "outputs": [
    {
     "data": {
      "text/plain": [
       "[<matplotlib.lines.Line2D at 0x2106e1ddee0>]"
      ]
     },
     "execution_count": 267,
     "metadata": {},
     "output_type": "execute_result"
    },
    {
     "data": {
      "image/png": "[encoded data removed]",
      "text/plain": [
       "<Figure size 432x288 with 1 Axes>"
      ]
     },
     "metadata": {
      "needs_background": "light"
     },
     "output_type": "display_data"
    }
   ],
   "source": [
    "plt.plot([h_dis[y][0] for y in range(len(h_dis))])"
   ]
  },
  {
   "cell_type": "code",
   "execution_count": 268,
   "metadata": {},
   "outputs": [
    {
     "data": {
      "text/plain": [
       "[<matplotlib.lines.Line2D at 0x2106f75efa0>]"
      ]
     },
     "execution_count": 268,
     "metadata": {},
     "output_type": "execute_result"
    },
    {
     "data": {
      "image/png": "[encoded data removed]",
      "text/plain": [
       "<Figure size 432x288 with 1 Axes>"
      ]
     },
     "metadata": {
      "needs_background": "light"
     },
     "output_type": "display_data"
    }
   ],
   "source": [
    "plt.plot([h_dis[y][1] for y in range(len(h_dis))])"
   ]
  },
  {
   "cell_type": "code",
   "execution_count": 269,
   "metadata": {},
   "outputs": [
    {
     "data": {
      "text/plain": [
       "[<matplotlib.lines.Line2D at 0x2105b564ee0>]"
      ]
     },
     "execution_count": 269,
     "metadata": {},
     "output_type": "execute_result"
    },
    {
     "data": {
      "image/png": "[encoded data removed]",
      "text/plain": [
       "<Figure size 432x288 with 1 Axes>"
      ]
     },
     "metadata": {
      "needs_background": "light"
     },
     "output_type": "display_data"
    }
   ],
   "source": [
    "plt.plot(h_gen)"
   ]
  },
  {
   "cell_type": "code",
   "execution_count": null,
   "metadata": {},
   "outputs": [],
   "source": [
    "#============================================================="
   ]
  },
  {
   "cell_type": "code",
   "execution_count": null,
   "metadata": {},
   "outputs": [],
   "source": [
    "noise = np.random.uniform(0, 1, size=[100, 100])\n",
    "generated_packets = generator.predict(noise,  verbose=1)\n",
    "real_packets = df.loc[len(df)-100:]\n",
    "X = np.concatenate([real_packets, generated_packets])\n",
    "\n",
    "# Labels for generated and real data\n",
    "y_dis = np.ones(2 * 100)\n",
    "# One-sided label smoothing\n",
    "y_dis[:100] = 1"
   ]
  },
  {
   "cell_type": "code",
   "execution_count": null,
   "metadata": {},
   "outputs": [],
   "source": [
    "discriminator.evaluate(X, y_dis)"
   ]
  },
  {
   "cell_type": "code",
   "execution_count": null,
   "metadata": {},
   "outputs": [],
   "source": [
    "noise = np.random.normal(0, 1, size=[100, 100])\n",
    "y_gen = np.ones(100)\n",
    "#discriminator.trainable = False\n",
    "gan.evaluate(noise, y_gen)"
   ]
  },
  {
   "cell_type": "code",
   "execution_count": null,
   "metadata": {},
   "outputs": [],
   "source": [
    "plt.plot([h_dis[y][0] for y in range(len(h_dis))])"
   ]
  },
  {
   "cell_type": "code",
   "execution_count": null,
   "metadata": {},
   "outputs": [],
   "source": [
    "plt.plot([h_dis[y][1] for y in range(len(h_dis))])"
   ]
  },
  {
   "cell_type": "code",
   "execution_count": null,
   "metadata": {},
   "outputs": [],
   "source": [
    "plt.plot(h_gen)"
   ]
  },
  {
   "cell_type": "code",
   "execution_count": null,
   "metadata": {},
   "outputs": [],
   "source": []
  }
 ],
 "metadata": {
  "kernelspec": {
   "display_name": "Python 3",
   "language": "python",
   "name": "python3"
  },
  "language_info": {
   "codemirror_mode": {
    "name": "ipython",
    "version": 3
   },
   "file_extension": ".py",
   "mimetype": "text/x-python",
   "name": "python",
   "nbconvert_exporter": "python",
   "pygments_lexer": "ipython3",
   "version": "3.8.0"
  }
 },
 "nbformat": 4,
 "nbformat_minor": 4
}
